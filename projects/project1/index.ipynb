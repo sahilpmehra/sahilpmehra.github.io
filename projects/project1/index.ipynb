{
  "cells": [
    {
      "cell_type": "raw",
      "metadata": {},
      "source": [
        "---\n",
        "title: My Main Project\n",
        "---"
      ],
      "id": "8c0a0f3e"
    },
    {
      "cell_type": "markdown",
      "metadata": {},
      "source": [
        "# Header 1\n",
        "\n",
        "lorem ipsum\n",
        "\n",
        "## Subheader\n",
        "\n",
        "random shit\n"
      ],
      "id": "7d929fd7"
    },
    {
      "cell_type": "code",
      "metadata": {},
      "source": [
        "import numpy as np"
      ],
      "id": "bb89d323",
      "execution_count": null,
      "outputs": []
    }
  ],
  "metadata": {
    "kernelspec": {
      "display_name": "Python 3",
      "language": "python",
      "name": "python3"
    }
  },
  "nbformat": 4,
  "nbformat_minor": 5
}